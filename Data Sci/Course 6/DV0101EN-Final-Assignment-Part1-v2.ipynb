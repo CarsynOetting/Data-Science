{
 "cells": [
  {
   "cell_type": "markdown",
   "id": "3d74cdd7-cb5b-40c9-bdea-55cd2885b9ab",
   "metadata": {},
   "source": [
    "<p style=\"text-align:center\">\n",
    "    <a href=\"https://skills.network\" target=\"_blank\">\n",
    "    <img src=\"https://cf-courses-data.s3.us.cloud-object-storage.appdomain.cloud/assets/logos/SN_web_lightmode.png\" width=\"200\" alt=\"Skills Network Logo\">\n",
    "    </a>\n",
    "</p>\n"
   ]
  },
  {
   "cell_type": "markdown",
   "id": "07c9cf87-f57a-43c2-87bf-304038172ada",
   "metadata": {},
   "source": [
    "# **Create visualizations using Matplotib, Seaborn and Folium** \n",
    "\n",
    "Estimated time needed: **40** minutes\n",
    "\n",
    "In this assignment, you will have the opportunity to demonstrate the skills you have acquired in creating visualizations using *Matplotlib, Seaborn, Folium*.\n",
    "<br>\n",
    "<br>\n",
    "<span style=\"color:red\">After each task you will be required to save your plots as an image or screenshot using the filenames specified.  You will be uploading these images during your final project submission so they can be evaluated by your peers. </span>\n"
   ]
  },
  {
   "cell_type": "markdown",
   "id": "6e2237e8-5585-4c4e-a7b0-0bda137937d9",
   "metadata": {},
   "source": [
    "# __Table of Contents__\n",
    "\n",
    "<ol>\n",
    "    <li><a href=\"#Objectives\">Objectives</a></li>\n",
    "    <li>\n",
    "        <a href=\"#Setup\">Setup</a>\n",
    "        <ol>\n",
    "            <li><a href=\"#Installing-Required-Libraries\">Installing Required Libraries</a></li>\n",
    "            <li><a href=\"#Importing-Required-Libraries\">Importing Required Libraries</a></li>\n",
    "            </ol>\n",
    "    </li>\n",
    "    <li>\n",
    "        <a href=\"#Scenario\">Scenario</a>\n",
    "        <ol>\n",
    "            <li><a href=\"#Data Description\">Data Description</a></li>\n",
    "        </ol>\n",
    "    </li>\n",
    "    <li><a href=\"#Importing Data\">Importing data</a></li>\n",
    "    <li><a href=\"#Creating Visualizations for Data Analysis\">Creating Visualizations for Data Analysis</a></li>\n",
    "</ol>\n"
   ]
  },
  {
   "cell_type": "markdown",
   "id": "3525446f-27a3-40cd-ae18-f91bd0182bf7",
   "metadata": {},
   "source": [
    "# Objectives\n",
    "\n",
    "After completing this lab you will be able to:\n",
    "\n",
    "- Create informative and visually appealing plots with Matplotlib and Seaborn.\n",
    "- Apply visualization to communicate insights from the data.\n",
    "- Analyze data through using visualizations.\n",
    "- Customize visualizations\n"
   ]
  },
  {
   "cell_type": "markdown",
   "id": "36c6d150-8a65-4f73-b879-680a6004a8ca",
   "metadata": {},
   "source": [
    "# Setup\n"
   ]
  },
  {
   "cell_type": "markdown",
   "id": "40b1df12-8c63-4a50-a7fc-94c09d33ec10",
   "metadata": {},
   "source": [
    "For this lab, we will be using the following libraries:\n",
    "\n",
    "*   [`pandas`](https://pandas.pydata.org/?utm_medium=Exinfluencer&utm_source=Exinfluencer&utm_content=000026UJ&utm_term=10006555&utm_id=NA-SkillsNetwork-Channel-SkillsNetworkCoursesIBMML0187ENSkillsNetwork31430127-2021-01-01) for managing the data.\n",
    "*   [`numpy`](https://numpy.org/?utm_medium=Exinfluencer&utm_source=Exinfluencer&utm_content=000026UJ&utm_term=10006555&utm_id=NA-SkillsNetwork-Channel-SkillsNetworkCoursesIBMML0187ENSkillsNetwork31430127-2021-01-01) for mathematical operations.\n",
    "*   [`matplotlib`](https://matplotlib.org/?utm_medium=Exinfluencer&utm_source=Exinfluencer&utm_content=000026UJ&utm_term=10006555&utm_id=NA-SkillsNetwork-Channel-SkillsNetworkCoursesIBMML0187ENSkillsNetwork31430127-2021-01-01) for plotting.\n",
    "*   [`seaborn`](https://seaborn.pydata.org/?utm_medium=Exinfluencer&utm_source=Exinfluencer&utm_content=000026UJ&utm_term=10006555&utm_id=NA-SkillsNetwork-Channel-SkillsNetworkCoursesIBMML0187ENSkillsNetwork31430127-2021-01-01) for plotting.\n",
    "*  [`Folium`](https://python-visualization.github.io/folium/?utm_medium=Exinfluencer&utm_source=Exinfluencer&utm_content=000026UJ&utm_term=10006555&utm_id=NA-SkillsNetwork-Channel-SkillsNetworkCoursesIBMML0187ENSkillsNetwork31430127-2021-01-01) for plotting.\n"
   ]
  },
  {
   "cell_type": "markdown",
   "id": "e804d3f4-5974-47c6-8787-2745f65eb4ff",
   "metadata": {},
   "source": [
    "### Installing Required Libraries\n",
    "\n",
    "The following required libraries are pre-installed in the Skills Network Labs environment. However, if you run these notebook commands in a different Jupyter environment (e.g. Watson Studio or Ananconda), you will need to install these libraries by removing the `#` sign before `%pip` in the code cell below.\n"
   ]
  },
  {
   "cell_type": "code",
   "execution_count": 1,
   "id": "db099e22-e8bd-4bc9-ba8a-a341e952e6cb",
   "metadata": {},
   "outputs": [],
   "source": [
    "# All Libraries required for this lab are listed below. The libraries pre-installed on Skills Network Labs are commented.\n",
    "# %pip install -qy pandas==1.3.4 numpy==1.21.4 matplotlib==3.5.0 seaborn folium\n",
    "# Note: If your environment doesn't support \"%pip install\", use \"!mamba install\""
   ]
  },
  {
   "cell_type": "code",
   "execution_count": 2,
   "id": "88409b4e-9e93-4bde-9d13-2dde0b84c029",
   "metadata": {},
   "outputs": [
    {
     "name": "stdout",
     "output_type": "stream",
     "text": [
      "Requirement already satisfied: seaborn in c:\\users\\carso\\appdata\\local\\packages\\pythonsoftwarefoundation.python.3.8_qbz5n2kfra8p0\\localcache\\local-packages\\python38\\site-packages (0.13.2)\n",
      "Requirement already satisfied: numpy!=1.24.0,>=1.20 in c:\\users\\carso\\appdata\\local\\packages\\pythonsoftwarefoundation.python.3.8_qbz5n2kfra8p0\\localcache\\local-packages\\python38\\site-packages (from seaborn) (1.24.4)\n",
      "Requirement already satisfied: pandas>=1.2 in c:\\users\\carso\\appdata\\local\\packages\\pythonsoftwarefoundation.python.3.8_qbz5n2kfra8p0\\localcache\\local-packages\\python38\\site-packages (from seaborn) (2.0.3)\n",
      "Requirement already satisfied: matplotlib!=3.6.1,>=3.4 in c:\\users\\carso\\appdata\\local\\packages\\pythonsoftwarefoundation.python.3.8_qbz5n2kfra8p0\\localcache\\local-packages\\python38\\site-packages (from seaborn) (3.7.5)\n",
      "Requirement already satisfied: contourpy>=1.0.1 in c:\\users\\carso\\appdata\\local\\packages\\pythonsoftwarefoundation.python.3.8_qbz5n2kfra8p0\\localcache\\local-packages\\python38\\site-packages (from matplotlib!=3.6.1,>=3.4->seaborn) (1.1.1)\n",
      "Requirement already satisfied: cycler>=0.10 in c:\\users\\carso\\appdata\\local\\packages\\pythonsoftwarefoundation.python.3.8_qbz5n2kfra8p0\\localcache\\local-packages\\python38\\site-packages (from matplotlib!=3.6.1,>=3.4->seaborn) (0.12.1)\n",
      "Requirement already satisfied: fonttools>=4.22.0 in c:\\users\\carso\\appdata\\local\\packages\\pythonsoftwarefoundation.python.3.8_qbz5n2kfra8p0\\localcache\\local-packages\\python38\\site-packages (from matplotlib!=3.6.1,>=3.4->seaborn) (4.56.0)\n",
      "Requirement already satisfied: kiwisolver>=1.0.1 in c:\\users\\carso\\appdata\\local\\packages\\pythonsoftwarefoundation.python.3.8_qbz5n2kfra8p0\\localcache\\local-packages\\python38\\site-packages (from matplotlib!=3.6.1,>=3.4->seaborn) (1.4.7)\n",
      "Requirement already satisfied: packaging>=20.0 in c:\\users\\carso\\appdata\\local\\packages\\pythonsoftwarefoundation.python.3.8_qbz5n2kfra8p0\\localcache\\local-packages\\python38\\site-packages (from matplotlib!=3.6.1,>=3.4->seaborn) (24.1)\n",
      "Requirement already satisfied: pillow>=6.2.0 in c:\\users\\carso\\appdata\\local\\packages\\pythonsoftwarefoundation.python.3.8_qbz5n2kfra8p0\\localcache\\local-packages\\python38\\site-packages (from matplotlib!=3.6.1,>=3.4->seaborn) (10.4.0)\n",
      "Requirement already satisfied: pyparsing>=2.3.1 in c:\\users\\carso\\appdata\\local\\packages\\pythonsoftwarefoundation.python.3.8_qbz5n2kfra8p0\\localcache\\local-packages\\python38\\site-packages (from matplotlib!=3.6.1,>=3.4->seaborn) (3.1.4)\n",
      "Requirement already satisfied: python-dateutil>=2.7 in c:\\users\\carso\\appdata\\local\\packages\\pythonsoftwarefoundation.python.3.8_qbz5n2kfra8p0\\localcache\\local-packages\\python38\\site-packages (from matplotlib!=3.6.1,>=3.4->seaborn) (2.9.0.post0)\n",
      "Requirement already satisfied: importlib-resources>=3.2.0 in c:\\users\\carso\\appdata\\local\\packages\\pythonsoftwarefoundation.python.3.8_qbz5n2kfra8p0\\localcache\\local-packages\\python38\\site-packages (from matplotlib!=3.6.1,>=3.4->seaborn) (6.4.5)\n",
      "Requirement already satisfied: pytz>=2020.1 in c:\\users\\carso\\appdata\\local\\packages\\pythonsoftwarefoundation.python.3.8_qbz5n2kfra8p0\\localcache\\local-packages\\python38\\site-packages (from pandas>=1.2->seaborn) (2024.2)\n",
      "Requirement already satisfied: tzdata>=2022.1 in c:\\users\\carso\\appdata\\local\\packages\\pythonsoftwarefoundation.python.3.8_qbz5n2kfra8p0\\localcache\\local-packages\\python38\\site-packages (from pandas>=1.2->seaborn) (2024.2)\n",
      "Requirement already satisfied: zipp>=3.1.0 in c:\\users\\carso\\appdata\\local\\packages\\pythonsoftwarefoundation.python.3.8_qbz5n2kfra8p0\\localcache\\local-packages\\python38\\site-packages (from importlib-resources>=3.2.0->matplotlib!=3.6.1,>=3.4->seaborn) (3.20.2)\n",
      "Requirement already satisfied: six>=1.5 in c:\\users\\carso\\appdata\\local\\packages\\pythonsoftwarefoundation.python.3.8_qbz5n2kfra8p0\\localcache\\local-packages\\python38\\site-packages (from python-dateutil>=2.7->matplotlib!=3.6.1,>=3.4->seaborn) (1.16.0)\n",
      "Note: you may need to restart the kernel to use updated packages.\n"
     ]
    },
    {
     "name": "stderr",
     "output_type": "stream",
     "text": [
      "\n",
      "[notice] A new release of pip is available: 24.2 -> 25.0.1\n",
      "[notice] To update, run: C:\\Users\\carso\\AppData\\Local\\Microsoft\\WindowsApps\\PythonSoftwareFoundation.Python.3.8_qbz5n2kfra8p0\\python.exe -m pip install --upgrade pip\n"
     ]
    },
    {
     "name": "stdout",
     "output_type": "stream",
     "text": [
      "Requirement already satisfied: folium in c:\\users\\carso\\appdata\\local\\packages\\pythonsoftwarefoundation.python.3.8_qbz5n2kfra8p0\\localcache\\local-packages\\python38\\site-packages (0.18.0)\n",
      "Requirement already satisfied: branca>=0.6.0 in c:\\users\\carso\\appdata\\local\\packages\\pythonsoftwarefoundation.python.3.8_qbz5n2kfra8p0\\localcache\\local-packages\\python38\\site-packages (from folium) (0.8.1)\n",
      "Requirement already satisfied: jinja2>=2.9 in c:\\users\\carso\\appdata\\local\\packages\\pythonsoftwarefoundation.python.3.8_qbz5n2kfra8p0\\localcache\\local-packages\\python38\\site-packages (from folium) (3.1.5)\n",
      "Requirement already satisfied: numpy in c:\\users\\carso\\appdata\\local\\packages\\pythonsoftwarefoundation.python.3.8_qbz5n2kfra8p0\\localcache\\local-packages\\python38\\site-packages (from folium) (1.24.4)\n",
      "Requirement already satisfied: requests in c:\\users\\carso\\appdata\\local\\packages\\pythonsoftwarefoundation.python.3.8_qbz5n2kfra8p0\\localcache\\local-packages\\python38\\site-packages (from folium) (2.32.3)\n",
      "Requirement already satisfied: xyzservices in c:\\users\\carso\\appdata\\local\\packages\\pythonsoftwarefoundation.python.3.8_qbz5n2kfra8p0\\localcache\\local-packages\\python38\\site-packages (from folium) (2025.1.0)\n",
      "Requirement already satisfied: MarkupSafe>=2.0 in c:\\users\\carso\\appdata\\local\\packages\\pythonsoftwarefoundation.python.3.8_qbz5n2kfra8p0\\localcache\\local-packages\\python38\\site-packages (from jinja2>=2.9->folium) (2.1.5)\n",
      "Requirement already satisfied: charset-normalizer<4,>=2 in c:\\users\\carso\\appdata\\local\\packages\\pythonsoftwarefoundation.python.3.8_qbz5n2kfra8p0\\localcache\\local-packages\\python38\\site-packages (from requests->folium) (3.4.0)\n",
      "Requirement already satisfied: idna<4,>=2.5 in c:\\users\\carso\\appdata\\local\\packages\\pythonsoftwarefoundation.python.3.8_qbz5n2kfra8p0\\localcache\\local-packages\\python38\\site-packages (from requests->folium) (3.10)\n",
      "Requirement already satisfied: urllib3<3,>=1.21.1 in c:\\users\\carso\\appdata\\local\\packages\\pythonsoftwarefoundation.python.3.8_qbz5n2kfra8p0\\localcache\\local-packages\\python38\\site-packages (from requests->folium) (2.2.3)\n",
      "Requirement already satisfied: certifi>=2017.4.17 in c:\\users\\carso\\appdata\\local\\packages\\pythonsoftwarefoundation.python.3.8_qbz5n2kfra8p0\\localcache\\local-packages\\python38\\site-packages (from requests->folium) (2024.8.30)\n",
      "Note: you may need to restart the kernel to use updated packages.\n"
     ]
    },
    {
     "name": "stderr",
     "output_type": "stream",
     "text": [
      "\n",
      "[notice] A new release of pip is available: 24.2 -> 25.0.1\n",
      "[notice] To update, run: C:\\Users\\carso\\AppData\\Local\\Microsoft\\WindowsApps\\PythonSoftwareFoundation.Python.3.8_qbz5n2kfra8p0\\python.exe -m pip install --upgrade pip\n"
     ]
    }
   ],
   "source": [
    "%pip install seaborn\n",
    "%pip install folium"
   ]
  },
  {
   "cell_type": "markdown",
   "id": "825277c6-b854-4e2d-8d51-4fcc16146fd3",
   "metadata": {},
   "source": [
    "### Importing Required Libraries\n",
    "\n",
    "_We recommend you import all required libraries in one place (here):_\n"
   ]
  },
  {
   "cell_type": "code",
   "execution_count": 3,
   "id": "dc8aecc6-fa90-4fac-9b75-79cef76d8c16",
   "metadata": {},
   "outputs": [],
   "source": [
    "import numpy as np\n",
    "import pandas as pd\n",
    "%matplotlib inline\n",
    "import matplotlib as mpl\n",
    "import matplotlib.pyplot as plt\n",
    "import seaborn as sns\n",
    "import folium"
   ]
  },
  {
   "cell_type": "markdown",
   "id": "24bdc740-6b4f-49a6-8e88-729278970fd5",
   "metadata": {},
   "source": [
    "\n",
    "\n",
    "<details><summary>Click here for a hint</summary>\n",
    "\n",
    "<p>\n",
    "You will require:-\n",
    "<br>Numpy for many scientific computing in Python\n",
    "<br>Pandas for creating and working on dataframe, also for plotting directly on dataframe/series\n",
    "<br>The inline backend to generate the plots within the browser [%matplotlib inline]\n",
    "<br>Matplotlib and its pyplot pacakge for plotting\n",
    "<br>Seaborn for plotting\n",
    "</details>\n",
    "\n",
    "\n"
   ]
  },
  {
   "cell_type": "markdown",
   "id": "f1735830-bf3f-405d-a2fd-2e0bebe1ff3a",
   "metadata": {},
   "source": [
    "\n",
    "<details><summary>Click here for python solution</summary>\n",
    "\n",
    "```python\n",
    "    #Import Primary Modules:\n",
    "    import numpy as np\n",
    "    import pandas as pd\n",
    "    %matplotlib inline\n",
    "    import matplotlib as mpl\n",
    "    import matplotlib.pyplot as plt\n",
    "    import seaborn as sns\n",
    "    import folium\n",
    "```\n",
    "\n",
    "</details>\n"
   ]
  },
  {
   "cell_type": "markdown",
   "id": "8c8913ef-06ae-48a5-946e-3f7d3660fe8b",
   "metadata": {},
   "source": [
    "---\n"
   ]
  },
  {
   "cell_type": "markdown",
   "id": "ad3c6cb3-c273-42d4-9032-6cff15bdd013",
   "metadata": {},
   "source": [
    "# Scenario\n",
    "\n",
    "In this assignment you will be tasked with creating plots which answer questions for analysing \"historical_automobile_sales\" data to understand the historical trends in automobile sales during recession periods.<br>\n",
    "recession period 1 - year 1980 <br>\n",
    "recession period 2 - year 1981 to 1982<br>\n",
    "recession period 3 - year 1991<br>\n",
    "recession period 4 - year 2000 to 2001<br>\n",
    "recession period 5 - year end 2007 to mid 2009<br>\n",
    "recession period 6 - year 2020 -Feb to April (Covid-19 Impact)<br>\n",
    "\n",
    "# Data Description\n",
    "\n",
    "The dataset used for this visualization assignment contains *historical_automobile_sales* data representing automobile sales and related variables during recession and non-recession period. \n",
    "\n",
    "The dataset includes the following variables:\n",
    "<br>1. Date: The date of the observation.\n",
    "<br>2. Recession: A binary variable indicating recession perion; 1 means it was recession, 0 means it was normal.\n",
    "<br>3. Automobile_Sales: The number of vehicles sold during the period.\n",
    "<br>4. GDP: The per capita GDP value in USD.\n",
    "<br>5. Unemployment_Rate: The monthly unemployment rate.\n",
    "<br>6. Consumer_Confidence: A synthetic index representing consumer confidence, which can impact consumer spending and automobile purchases.\n",
    "<br>7. Seasonality_Weight: The weight representing the seasonality effect on automobile sales during the period.\n",
    "<br>8. Price: The average vehicle price during the period.\n",
    "<br>9. Advertising_Expenditure: The advertising expenditure of the company.\n",
    "<br>10.Vehicle_Type: The type of vehicles sold; Supperminicar, Smallfamiliycar,                 Mediumfamilycar, Executivecar, Sports.\n",
    "<br>11.Competition: The measure of competition in the market, such as the number of competitors or market share of major manufacturers.\n",
    "<br>12.Month: Month of the observation extracted from Date..\n",
    "<br>13.Year: Year of the observation extracted from Date.\n",
    "<br>\n",
    "By examining various factors mentioned above from the dataset, you aim to gain insights into how recessions impacted automobile sales for your company.\n"
   ]
  },
  {
   "cell_type": "markdown",
   "id": "8b37d7f8-9407-47bc-a25f-24acd7897205",
   "metadata": {},
   "source": [
    "---\n"
   ]
  },
  {
   "cell_type": "markdown",
   "id": "5f1ca547-dc0d-4f7e-8be2-63be500bc80a",
   "metadata": {},
   "source": [
    "# Importing Data\n"
   ]
  },
  {
   "cell_type": "markdown",
   "id": "1d32f084-3fdb-408c-a7cf-0db8888c0bf1",
   "metadata": {},
   "source": [
    "#### For your convenience, we have already written code to import the data below.\n"
   ]
  },
  {
   "cell_type": "code",
   "execution_count": 4,
   "id": "525f31f7-2825-4290-b3e1-34872f06c30e",
   "metadata": {},
   "outputs": [
    {
     "name": "stdout",
     "output_type": "stream",
     "text": [
      "Data downloaded and read into a dataframe!\n",
      "        Date  Year Month  Recession  Consumer_Confidence  Seasonality_Weight  \\\n",
      "0  1/31/1980  1980   Jan          1               108.24                0.50   \n",
      "1  2/29/1980  1980   Feb          1                98.75                0.75   \n",
      "2  3/31/1980  1980   Mar          1               107.48                0.20   \n",
      "3  4/30/1980  1980   Apr          1               115.01                1.00   \n",
      "4  5/31/1980  1980   May          1                98.72                0.20   \n",
      "\n",
      "       Price  Advertising_Expenditure  Competition     GDP  Growth_Rate  \\\n",
      "0  27483.571                     1558            7  60.223     0.010000   \n",
      "1  24308.678                     3048            4  45.986    -0.309594   \n",
      "2  28238.443                     3137            3  35.141    -0.308614   \n",
      "3  32615.149                     1653            7  45.673     0.230596   \n",
      "4  23829.233                     1319            4  52.997     0.138197   \n",
      "\n",
      "   unemployment_rate  Automobile_Sales     Vehicle_Type        City  \n",
      "0                5.4             456.0    Supperminicar     Georgia  \n",
      "1                4.8             555.9    Supperminicar    New York  \n",
      "2                3.4             620.0  Mediumfamilycar    New York  \n",
      "3                4.2             702.8    Supperminicar    Illinois  \n",
      "4                5.3             770.4  Smallfamiliycar  California  \n"
     ]
    }
   ],
   "source": [
    "import requests\n",
    "import io\n",
    "import pandas as pd\n",
    "\n",
    "# URL of the CSV file\n",
    "URL = \"https://cf-courses-data.s3.us.cloud-object-storage.appdomain.cloud/IBMDeveloperSkillsNetwork-DV0101EN-SkillsNetwork/Data%20Files/historical_automobile_sales.csv\"\n",
    "\n",
    "# Fetch the data from the URL\n",
    "response = requests.get(URL)\n",
    "\n",
    "# Raise an error if the request failed\n",
    "response.raise_for_status()\n",
    "\n",
    "# Convert the response content into a readable format for pandas\n",
    "csv_content = io.StringIO(response.text)\n",
    "\n",
    "# Read the CSV data into a pandas dataframe\n",
    "df = pd.read_csv(csv_content)\n",
    "\n",
    "# Print confirmation\n",
    "print('Data downloaded and read into a dataframe!')\n",
    "\n",
    "# Optional: Show the first few rows of the dataframe\n",
    "print(df.head())\n"
   ]
  },
  {
   "cell_type": "code",
   "execution_count": 5,
   "id": "4fbd5d7e-7f91-4a13-bc55-dbedbee178a1",
   "metadata": {},
   "outputs": [
    {
     "data": {
      "text/html": [
       "<div>\n",
       "<style scoped>\n",
       "    .dataframe tbody tr th:only-of-type {\n",
       "        vertical-align: middle;\n",
       "    }\n",
       "\n",
       "    .dataframe tbody tr th {\n",
       "        vertical-align: top;\n",
       "    }\n",
       "\n",
       "    .dataframe thead th {\n",
       "        text-align: right;\n",
       "    }\n",
       "</style>\n",
       "<table border=\"1\" class=\"dataframe\">\n",
       "  <thead>\n",
       "    <tr style=\"text-align: right;\">\n",
       "      <th></th>\n",
       "      <th>Year</th>\n",
       "      <th>Recession</th>\n",
       "      <th>Consumer_Confidence</th>\n",
       "      <th>Seasonality_Weight</th>\n",
       "      <th>Price</th>\n",
       "      <th>Advertising_Expenditure</th>\n",
       "      <th>Competition</th>\n",
       "      <th>GDP</th>\n",
       "      <th>Growth_Rate</th>\n",
       "      <th>unemployment_rate</th>\n",
       "      <th>Automobile_Sales</th>\n",
       "    </tr>\n",
       "  </thead>\n",
       "  <tbody>\n",
       "    <tr>\n",
       "      <th>count</th>\n",
       "      <td>528.000000</td>\n",
       "      <td>528.000000</td>\n",
       "      <td>528.000000</td>\n",
       "      <td>528.000000</td>\n",
       "      <td>528.000000</td>\n",
       "      <td>528.000000</td>\n",
       "      <td>528.000000</td>\n",
       "      <td>528.000000</td>\n",
       "      <td>528.000000</td>\n",
       "      <td>528.000000</td>\n",
       "      <td>528.000000</td>\n",
       "    </tr>\n",
       "    <tr>\n",
       "      <th>mean</th>\n",
       "      <td>2001.500000</td>\n",
       "      <td>0.214015</td>\n",
       "      <td>101.140170</td>\n",
       "      <td>0.575795</td>\n",
       "      <td>24964.991956</td>\n",
       "      <td>3067.456439</td>\n",
       "      <td>6.064394</td>\n",
       "      <td>40.073903</td>\n",
       "      <td>-0.242001</td>\n",
       "      <td>2.453977</td>\n",
       "      <td>2352.718068</td>\n",
       "    </tr>\n",
       "    <tr>\n",
       "      <th>std</th>\n",
       "      <td>12.710467</td>\n",
       "      <td>0.410526</td>\n",
       "      <td>10.601154</td>\n",
       "      <td>0.454477</td>\n",
       "      <td>4888.073433</td>\n",
       "      <td>1139.564637</td>\n",
       "      <td>1.968350</td>\n",
       "      <td>16.249714</td>\n",
       "      <td>0.861268</td>\n",
       "      <td>1.119019</td>\n",
       "      <td>1645.321284</td>\n",
       "    </tr>\n",
       "    <tr>\n",
       "      <th>min</th>\n",
       "      <td>1980.000000</td>\n",
       "      <td>0.000000</td>\n",
       "      <td>73.900000</td>\n",
       "      <td>0.000000</td>\n",
       "      <td>8793.663000</td>\n",
       "      <td>1009.000000</td>\n",
       "      <td>3.000000</td>\n",
       "      <td>12.508000</td>\n",
       "      <td>-4.227601</td>\n",
       "      <td>1.000000</td>\n",
       "      <td>102.000000</td>\n",
       "    </tr>\n",
       "    <tr>\n",
       "      <th>25%</th>\n",
       "      <td>1990.750000</td>\n",
       "      <td>0.000000</td>\n",
       "      <td>94.035000</td>\n",
       "      <td>0.250000</td>\n",
       "      <td>21453.300500</td>\n",
       "      <td>2083.500000</td>\n",
       "      <td>4.000000</td>\n",
       "      <td>27.237500</td>\n",
       "      <td>-0.574049</td>\n",
       "      <td>1.600000</td>\n",
       "      <td>793.950000</td>\n",
       "    </tr>\n",
       "    <tr>\n",
       "      <th>50%</th>\n",
       "      <td>2001.500000</td>\n",
       "      <td>0.000000</td>\n",
       "      <td>100.740000</td>\n",
       "      <td>0.500000</td>\n",
       "      <td>25038.691500</td>\n",
       "      <td>3072.000000</td>\n",
       "      <td>6.000000</td>\n",
       "      <td>39.214500</td>\n",
       "      <td>-0.013162</td>\n",
       "      <td>2.300000</td>\n",
       "      <td>2182.600000</td>\n",
       "    </tr>\n",
       "    <tr>\n",
       "      <th>75%</th>\n",
       "      <td>2012.250000</td>\n",
       "      <td>0.000000</td>\n",
       "      <td>108.240000</td>\n",
       "      <td>0.750000</td>\n",
       "      <td>28131.684750</td>\n",
       "      <td>4067.250000</td>\n",
       "      <td>8.000000</td>\n",
       "      <td>53.506500</td>\n",
       "      <td>0.388932</td>\n",
       "      <td>2.900000</td>\n",
       "      <td>3614.800000</td>\n",
       "    </tr>\n",
       "    <tr>\n",
       "      <th>max</th>\n",
       "      <td>2023.000000</td>\n",
       "      <td>1.000000</td>\n",
       "      <td>131.670000</td>\n",
       "      <td>1.500000</td>\n",
       "      <td>44263.657000</td>\n",
       "      <td>4983.000000</td>\n",
       "      <td>9.000000</td>\n",
       "      <td>70.374000</td>\n",
       "      <td>0.815074</td>\n",
       "      <td>6.000000</td>\n",
       "      <td>21147.000000</td>\n",
       "    </tr>\n",
       "  </tbody>\n",
       "</table>\n",
       "</div>"
      ],
      "text/plain": [
       "              Year   Recession  Consumer_Confidence  Seasonality_Weight  \\\n",
       "count   528.000000  528.000000           528.000000          528.000000   \n",
       "mean   2001.500000    0.214015           101.140170            0.575795   \n",
       "std      12.710467    0.410526            10.601154            0.454477   \n",
       "min    1980.000000    0.000000            73.900000            0.000000   \n",
       "25%    1990.750000    0.000000            94.035000            0.250000   \n",
       "50%    2001.500000    0.000000           100.740000            0.500000   \n",
       "75%    2012.250000    0.000000           108.240000            0.750000   \n",
       "max    2023.000000    1.000000           131.670000            1.500000   \n",
       "\n",
       "              Price  Advertising_Expenditure  Competition         GDP  \\\n",
       "count    528.000000               528.000000   528.000000  528.000000   \n",
       "mean   24964.991956              3067.456439     6.064394   40.073903   \n",
       "std     4888.073433              1139.564637     1.968350   16.249714   \n",
       "min     8793.663000              1009.000000     3.000000   12.508000   \n",
       "25%    21453.300500              2083.500000     4.000000   27.237500   \n",
       "50%    25038.691500              3072.000000     6.000000   39.214500   \n",
       "75%    28131.684750              4067.250000     8.000000   53.506500   \n",
       "max    44263.657000              4983.000000     9.000000   70.374000   \n",
       "\n",
       "       Growth_Rate  unemployment_rate  Automobile_Sales  \n",
       "count   528.000000         528.000000        528.000000  \n",
       "mean     -0.242001           2.453977       2352.718068  \n",
       "std       0.861268           1.119019       1645.321284  \n",
       "min      -4.227601           1.000000        102.000000  \n",
       "25%      -0.574049           1.600000        793.950000  \n",
       "50%      -0.013162           2.300000       2182.600000  \n",
       "75%       0.388932           2.900000       3614.800000  \n",
       "max       0.815074           6.000000      21147.000000  "
      ]
     },
     "execution_count": 5,
     "metadata": {},
     "output_type": "execute_result"
    }
   ],
   "source": [
    "df.describe()"
   ]
  },
  {
   "cell_type": "code",
   "execution_count": 6,
   "id": "69cfee2a-657c-4a79-8213-66f061e9659e",
   "metadata": {},
   "outputs": [
    {
     "data": {
      "text/plain": [
       "Index(['Date', 'Year', 'Month', 'Recession', 'Consumer_Confidence',\n",
       "       'Seasonality_Weight', 'Price', 'Advertising_Expenditure', 'Competition',\n",
       "       'GDP', 'Growth_Rate', 'unemployment_rate', 'Automobile_Sales',\n",
       "       'Vehicle_Type', 'City'],\n",
       "      dtype='object')"
      ]
     },
     "execution_count": 6,
     "metadata": {},
     "output_type": "execute_result"
    }
   ],
   "source": [
    "df.columns"
   ]
  },
  {
   "cell_type": "markdown",
   "id": "3183782c-ecd1-47ad-be49-92028b53c526",
   "metadata": {},
   "source": [
    "---\n"
   ]
  },
  {
   "cell_type": "markdown",
   "id": "d28a5d41-e725-4140-b84c-8802dc2af95e",
   "metadata": {},
   "source": [
    "# Creating Visualizations for Data Analysis\n"
   ]
  },
  {
   "cell_type": "markdown",
   "id": "24774b19-d66f-44b5-9e05-c8dd54b5d6c5",
   "metadata": {},
   "source": [
    "### TASK 1.1: Develop a *Line chart* using the functionality of pandas to show how automobile sales fluctuate from year to year\n"
   ]
  },
  {
   "cell_type": "markdown",
   "id": "9ecfeb1a-7572-48cc-a8c0-a4a28a8a877d",
   "metadata": {},
   "source": [
    "<details><summary>Click here for a hint</summary>\n",
    "\n",
    "<p>\n",
    "You will require:-\n",
    "<br>to group the year and calculate the average on the 'Automobile Sales', as the data has years and months column\n",
    "<br>make use of .plot() with kind = 'line'\n",
    "<br>donot forget to include labels and title\n",
    "</details>\n"
   ]
  },
  {
   "cell_type": "code",
   "execution_count": null,
   "id": "c4433dcc-a252-4012-8832-6463e6ef94a9",
   "metadata": {},
   "outputs": [
    {
     "data": {
      "image/png": "[encoded data removed]",
      "text/plain": [
       "<Figure size 1000x600 with 1 Axes>"
      ]
     },
     "metadata": {},
     "output_type": "display_data"
    }
   ],
   "source": [
    "ats = df.groupby(df['Year'])['Automobile_Sales'].mean()\n",
    "plt.figure(figsize=(10,6))\n",
    "ats.plot(kind='line')\n",
    "plt.ylabel('Number of cars sold')\n",
    "plt.xlabel('Year')\n",
    "plt.title('Number of cars sold per year')\n",
    "plt.show()"
   ]
  },
  {
   "cell_type": "markdown",
   "id": "c332b2d0-67f7-45ce-8245-3fc8f0e8c8d6",
   "metadata": {},
   "source": [
    "<details><summary>Click here for a solution template</summary>\n",
    "\n",
    "```python\n",
    "    #create data for plotting\n",
    "    df_line = df.groupby(df['Year'])['Automobile_Sales'].mean()\n",
    "    #create figure\n",
    "    plt.figure(figsize=(10, 6))\n",
    "    df_line.plot(kind = 'line')\n",
    "    plt.xlabel('........')\n",
    "    plt.ylabel('.........')\n",
    "    plt.title('......................')\n",
    "    plt.show()\n",
    "```\n",
    "</details>\n"
   ]
  },
  {
   "cell_type": "markdown",
   "id": "e7824803-5d29-4a81-a8bd-6164d22b00c7",
   "metadata": {},
   "source": [
    "### Include the following on the plot\n",
    "ticks on x- axis with all the years, to identify the years of recession \n",
    "<br>annotation for at least two years of recession\n",
    "<br>Title as Automobile Sales during Recession\n",
    "<br> \n"
   ]
  },
  {
   "cell_type": "markdown",
   "id": "812021eb-e77e-4aca-822e-0f4998621c20",
   "metadata": {},
   "source": [
    "<details><summary>Click here for a hint</summary>\n",
    "    <p>\n",
    "    You can create the list for the range 1980 till 2023 and pass that list to the plt.xticks function or you can directly pass the range to the function.\n",
    "    You might need to rotate the ticks to an angle so that they fit in well on the axis\n",
    "    You can include annotation with plt.text(x, y, 'text to display') \n",
    "    </p>\n",
    "</details>\n"
   ]
  },
  {
   "cell_type": "code",
   "execution_count": 21,
   "id": "6ba07be2-f7e4-4157-882c-b83897064d46",
   "metadata": {},
   "outputs": [
    {
     "data": {
      "image/png": "[encoded data removed]",
      "text/plain": [
       "<Figure size 1000x600 with 1 Axes>"
      ]
     },
     "metadata": {},
     "output_type": "display_data"
    }
   ],
   "source": [
    "ats = df.groupby(df['Year'])['Automobile_Sales'].mean()\n",
    "plt.figure(figsize=(10,6))\n",
    "ats.plot(kind='line')\n",
    "plt.ylabel('Number of cars sold')\n",
    "plt.xlabel('Year')\n",
    "plt.text(2009, 650, \"2008 recession\")\n",
    "plt.text(1982, 650, \"1980's recession\")\n",
    "plt.title('Number of cars sold per year')\n",
    "plt.xticks(list(range(1980, 2023)), rotation = 75)\n",
    "plt.legend()\n",
    "plt.show()\n"
   ]
  },
  {
   "cell_type": "markdown",
   "id": "d94d39a8-f24f-4a91-9b8a-b301257ca51c",
   "metadata": {},
   "source": [
    "<details>\n",
    "    <summary>Click here for Solution template</summary>\n",
    "\n",
    "```python\n",
    "    plt.figure(figsize=(10, 6))\n",
    "    df_line = ...............\n",
    "    df_line.plot(kind = 'line')\n",
    "    plt.xticks(list(range(1980,2024)), rotation = 75)\n",
    "    plt.xlabel('..............')\n",
    "    plt.ylabel('............')\n",
    "    plt.title('...................')\n",
    "    plt.text(1982, 650, '1981-82 Recession')\n",
    "    plt.text(......, ..., '..............')\n",
    "    plt.legend()\n",
    "    plt.show()\n",
    "```\n",
    "\n",
    "</details>\n"
   ]
  },
  {
   "cell_type": "markdown",
   "id": "0b513692-aef9-4b29-a301-e6eb926cc910",
   "metadata": {},
   "source": [
    "<span style=\"color:red\">\n",
    "Save this plot as \"Line_Plot_1.png\"</span><br>\n",
    "*Hint: You can right lick on the plot and then click on \"Save image as\" option to save it on your local machine*\n"
   ]
  },
  {
   "cell_type": "markdown",
   "id": "6f7b7d14-00ad-499c-a2db-e72c0462b98e",
   "metadata": {},
   "source": [
    "---\n"
   ]
  },
  {
   "cell_type": "markdown",
   "id": "838658c5-8967-4ef9-9cda-4cdb728cf73b",
   "metadata": {},
   "source": [
    "\n",
    "####  TASK 1.2: Plot different lines for categories of vehicle type and analyse the trend to answer the question Is there a noticeable difference in sales trends between different vehicle types during recession periods?\n"
   ]
  },
  {
   "cell_type": "markdown",
   "id": "a6f7eb79-c769-41b4-a98c-809ed1240d80",
   "metadata": {},
   "source": [
    "<details><summary>Click here for a hint</summary>\n",
    "\n",
    "<p>\n",
    "    You will require:-\n",
    "    <br>create a separate dataframe where the column recession has a value of '1'\n",
    "    <br>to group the year, vehicle_type and calculate the average on the 'Automobile Sales'\n",
    "    <br>one way is to -\n",
    "    <br>use as_index as false else you will endup with multiple-indexed datafame\n",
    "    <br>later set year as index and groupby vehicle over Sales and plot\n",
    "    <br>make use of .plot() with kind = 'line'\n",
    "    <br>do not forget to include labels and title\n",
    "</p>\n",
    "</details>\n"
   ]
  },
  {
   "cell_type": "code",
   "execution_count": 36,
   "id": "210d7994-224a-4684-809f-c76b533247cf",
   "metadata": {},
   "outputs": [
    {
     "data": {
      "image/png": "[encoded data removed]",
      "text/plain": [
       "<Figure size 640x480 with 1 Axes>"
      ]
     },
     "metadata": {},
     "output_type": "display_data"
    }
   ],
   "source": [
    "df_rec = df[df['Recession']==1]\n",
    "atv = df_rec.groupby(['Year','Vehicle_Type'], as_index=False)['Automobile_Sales'].mean()\n",
    "atv.set_index('Year', inplace=True)\n",
    "atv = atv.groupby(['Vehicle_Type'])['Automobile_Sales']\n",
    "atv.plot(kind='line')\n",
    "plt.ylabel('Number of cars sold')\n",
    "plt.xlabel('Year')\n",
    "plt.title('Number of cars types sold during recession')\n",
    "plt.legend()\n",
    "plt.show()"
   ]
  },
  {
   "cell_type": "markdown",
   "id": "1e2921e6-0800-4202-a0cb-cc15e28e9beb",
   "metadata": {},
   "source": [
    "<details>\n",
    "    <summary>Click here for Solution template</summary>\n",
    "\n",
    "```python\n",
    "    df_rec = df[df['Recession']==1]\n",
    "    df_Mline = df_rec.groupby(['Year','Vehicle_Type'], as_index=False)['Automobile_Sales'].mean()\n",
    "    df_Mline.set_index('Year', inplace=True)\n",
    "    df_Mline = df_Mline.groupby(['Vehicle_Type'])['Automobile_Sales']\n",
    "    df_Mline.plot(kind='line')\n",
    "    plt.xlabel('..............')\n",
    "    plt.ylabel('............')\n",
    "    plt.title('Sales Trend Vehicle-wise during Recession')\n",
    "    plt.legend()\n",
    "    plt.show()\n",
    "\n",
    "```\n",
    "</details>\n"
   ]
  },
  {
   "cell_type": "markdown",
   "id": "b75b7d2f-ad5f-4e47-a2e4-551adbe7774f",
   "metadata": {},
   "source": [
    "#### From the above plot, what insights have you gained on the sales of various vehicle types?<br> Type in your answer below:\n"
   ]
  },
  {
   "cell_type": "markdown",
   "id": "62ab69d5-b222-4719-bff9-9e53c2affa03",
   "metadata": {},
   "source": [
    "Super mini cars dropped off after 2010, and sports cars have always sold less that the other categories. Small and medium family cars seem to have the most staying power during recessions."
   ]
  },
  {
   "cell_type": "markdown",
   "id": "d5fb8df1-fa57-4bd9-942c-27c17a0c166f",
   "metadata": {},
   "source": [
    "<details>\n",
    "    <summary>Inference</summary>\n",
    "<p>\n",
    "Inference:\n",
    "From this plot, we can understand that during recession period, the sales for 'Sports type vehicles' declined because of the high cost of the vehicle.<br>while sales of the superminicar and smallfamilycar increased.<br><br>\n",
    "    </p>\n",
    "    </details>\n"
   ]
  },
  {
   "cell_type": "markdown",
   "id": "419666f1-73f6-482a-a518-4ee2542bd0c3",
   "metadata": {},
   "source": [
    "<span style=\"color:red\">\n",
    "Save this plot as \"Line_Plot_2.png\"</span><br>\n",
    "*Hint: You can right lick on the plot and then click on \"Save image as\" option to save it on your local machine*\n"
   ]
  },
  {
   "cell_type": "markdown",
   "id": "8dc4b4e5-2ff2-42e0-b8f5-79f28a7dd134",
   "metadata": {},
   "source": [
    "----\n"
   ]
  },
  {
   "cell_type": "markdown",
   "id": "6387ede4-260e-4dd8-b1b1-5dce42151d1e",
   "metadata": {},
   "source": [
    "### TASK 1.3: Use the functionality of **Seaborn Library** to create a visualization to compare the sales trend per vehicle type for a recession period with a non-recession period.\n"
   ]
  },
  {
   "cell_type": "markdown",
   "id": "f7dd48bd-822a-4c34-b447-5b44ab021613",
   "metadata": {},
   "source": [
    "<details><summary>Click here for a hint</summary>\n",
    "\n",
    "<p>\n",
    "     To visualize the average number of vehicles sold during recession and non-recession periods, you can use a bar chart\n",
    "        <br> You will need to group recession average Automobile_Sales and then plot it<br>\n",
    "    Make use of sns.barplot(x=x,y=y, data = df)</p>\n",
    "</details>\n"
   ]
  },
  {
   "cell_type": "code",
   "execution_count": null,
   "id": "98ee535f-8677-4109-bd13-c382e8470a52",
   "metadata": {},
   "outputs": [],
   "source": []
  },
  {
   "cell_type": "markdown",
   "id": "5800ccbf-3529-4126-89ff-c90d5921c7bf",
   "metadata": {},
   "source": [
    "<details>\n",
    "    <summary>Click here for Solution template</summary>\n",
    "\n",
    "```python\n",
    "    new_df = df.groupby('Recession')['Automobile_Sales'].mean().reset_index()\n",
    "\n",
    "    # Create the bar chart using seaborn\n",
    "    plt.figure(figsize=(.........., ............)\n",
    "    sns.barplot(x='Recession', y='Automobile_Sales', hue='Recession',  data=new_df)\n",
    "    plt.xlabel('............')\n",
    "    plt.ylabel('...............')\n",
    "    plt.title('Average Automobile Sales during Recession and Non-Recession')\n",
    "    plt.xticks(ticks=[0, 1], labels=['Non-Recession', 'Recession'])\n",
    "    plt.show()\n",
    "```\n",
    "\n",
    "</details>\n"
   ]
  },
  {
   "cell_type": "markdown",
   "id": "5dae9aa1-f089-4b85-a8b1-d6a12c88a4e8",
   "metadata": {},
   "source": [
    "### Now you want to compare the sales of different vehicle types during a recession and a non-recession period\n",
    "<br>We recommend that you use the functionality of **Seaborn Library** to create this visualization\n"
   ]
  },
  {
   "cell_type": "markdown",
   "id": "2953e9ed-3e97-4911-a699-9eebecade066",
   "metadata": {},
   "source": [
    "<details><summary>Click here for a hint</summary>\n",
    "\n",
    "<p>\n",
    "     To visualize sales of different vehicles during recession and non-recession periods, you can use a bar chart\n",
    "        <br> You will need to group Recession, Vehicle_Type for average Automobile_Sales and then plot it<br>\n",
    "    Make use of sns.barplot(x=x,y=y, data = df)</p>\n",
    "</details>\n"
   ]
  },
  {
   "cell_type": "code",
   "execution_count": null,
   "id": "c0478ce7-f3c6-43d6-926d-a59e2bbd9e77",
   "metadata": {},
   "outputs": [],
   "source": [
    "\n"
   ]
  },
  {
   "cell_type": "markdown",
   "id": "85a73c6a-a023-47a2-89fe-f6576d7cb555",
   "metadata": {},
   "source": [
    "<details>\n",
    "<summary>Click here for Solution template</summary>\n",
    "\n",
    "```python\n",
    "   # Filter the data for recessionary periods\n",
    "    recession_data = df[df['Recession'] == 1]\n",
    "\n",
    "    dd=df.groupby(['Recession','Vehicle_Type'])['Automobile_Sales'].mean().reset_index()\n",
    "\n",
    "    # Calculate the total sales volume by vehicle type during recessions\n",
    "    #sales_by_vehicle_type = recession_data.groupby('Vehicle_Type')['Automobile_Sales'].sum().reset_index()\n",
    "\n",
    "    # Create the grouped bar chart using seaborn\n",
    "    plt.figure(figsize=(10, 6))\n",
    "    sns.barplot(x='......', y='........', hue='Vehicle_Type', data=dd)\n",
    "    plt.xticks(ticks=[0, 1], labels=['Non-Recession', 'Recession'])\n",
    "    plt.xlabel('.............')\n",
    "    plt.ylabel('..............')\n",
    "    plt.title('Vehicle-Wise Sales during Recession and Non-Recession Period')\n",
    "\n",
    "    plt.show()\n",
    "\n",
    "```\n",
    "</details>\n"
   ]
  },
  {
   "cell_type": "markdown",
   "id": "86c4f4f0-f06d-48dd-b13a-9a1d3c82c750",
   "metadata": {},
   "source": [
    "### From the above chart what insights have you gained on the overall sales of automobiles during recession? <br> Type your answer below:-\n"
   ]
  },
  {
   "cell_type": "markdown",
   "id": "c8409092-c87b-4d04-a003-0be2a69e1d5c",
   "metadata": {},
   "source": []
  },
  {
   "cell_type": "markdown",
   "id": "2b2f3b75-3e78-4ebb-b48b-812d3bf634af",
   "metadata": {},
   "source": [
    "<details>\n",
    "<summary>Inference</summary>\n",
    "\n",
    "From this plot, we can understand that there is a drastic decline in the overall sales of the automobiles during recession.<br>However, the most affected type of vehicle is executivecar and sports<br><br>\n",
    "</details>\n"
   ]
  },
  {
   "cell_type": "markdown",
   "id": "8ea25b81-eda8-4ef4-8d21-55a06ee73aa9",
   "metadata": {},
   "source": [
    "<span style=\"color:red\">\n",
    "Save this plot as \"Bar_Chart.png\"</span><br>\n",
    "*Hint: You can right lick on the plot and then click on \"Save image as\" option to save it on your local machine*\n"
   ]
  },
  {
   "cell_type": "markdown",
   "id": "fecff531-8c47-47e2-8fc9-6790770325fb",
   "metadata": {},
   "source": [
    "---\n"
   ]
  },
  {
   "cell_type": "markdown",
   "id": "70ec21f6-110c-43f7-a1c0-0df108e4f695",
   "metadata": {},
   "source": [
    "### TASK 1.4: Use sub plotting to compare the variations in GDP during recession and non-recession period by developing line plots for each period.\n",
    "<br>Now, you want to find more insights from the data to understand the reason. <br>Plot a two line charts using subplotting to answer:-\n",
    "#### How did the GDP vary over time during recession and non-recession periods? \n",
    "<br>Make use of <u>add_subplot()</u> from Matplotlib for this comparision.\n"
   ]
  },
  {
   "cell_type": "code",
   "execution_count": null,
   "id": "6eece3ed-7e46-4468-9058-bb625c2caabc",
   "metadata": {},
   "outputs": [],
   "source": []
  },
  {
   "cell_type": "markdown",
   "id": "9ede6628-503b-4da3-9888-6e5c5ba6252d",
   "metadata": {},
   "source": [
    "<details>\n",
    "<summary>Click here for Solution template</summary>\n",
    "\n",
    "```python\n",
    "    #Create dataframes for recession and non-recession period\n",
    "    rec_data = df[df['Recession'] == 1]\n",
    "    non_rec_data = df[df['Recession'] == 0]\n",
    "    \n",
    "    #Figure\n",
    "    fig=plt.figure(figsize=(12, 6))\n",
    "    \n",
    "    #Create different axes for subploting\n",
    "    ax0 = fig.add_subplot(1, 2, 1) # add subplot 1 (1 row, 2 columns, first plot)\n",
    "    ax1 = fig.add_subplot(... ,... ,... ) # add subplot 2 (1 row, 2 columns, second plot). \n",
    "    \n",
    "    #plt.subplot(1, 2, 1)\n",
    "    sns.lineplot(x='Year', y='GDP', data=rec_data, label='Recession', ax=ax0)\n",
    "    ax0.set_xlabel('Year')\n",
    "    ax0.set_ylabel('GDP')\n",
    "    ax0.set_title('GDP Variation during Recession Period')\n",
    "    \n",
    "    #plt.subplot(1, 2, 2)\n",
    "    sns.lineplot(x='......', y='......', data=........, label='.........',ax=...)\n",
    "    ax1.set_xlabel('.....')\n",
    "    ax1.set_ylabel('.......')\n",
    "    ax1.set_title('..........')\n",
    "    \n",
    "    plt.tight_layout()\n",
    "    plt.show()\n",
    "\n",
    "   #------------------------------------------------Alternatively--------------\n",
    "   #Using subplot()\n",
    "    plt.figure(figsize=(............, ..........))\n",
    "    \n",
    "    #subplot 1\n",
    "    plt.subplot(1, 2, 1)\n",
    "    sns.lineplot(x='.........', y='......', data=.........., label='......')\n",
    "    plt.xlabel('.......')\n",
    "    plt.ylabel('..........')\n",
    "    plt.legend()\n",
    "    #subplot 1\n",
    "    plt.subplot(1, 2, 2)\n",
    "    sns.lineplot(x='.........', y='......', data=.........., label='......')\n",
    "    plt.xlabel('.......')\n",
    "    plt.ylabel('..........')\n",
    "    plt.legend()\n",
    "    \n",
    "    plt.tight_layout()\n",
    "    plt.show()\n",
    "```\n",
    "</details>\n"
   ]
  },
  {
   "cell_type": "markdown",
   "id": "6be9cda3-4907-4ab2-b784-142b7303b495",
   "metadata": {},
   "source": [
    "### Inference\n",
    "From this plot, it is evident that during recession, the GDP of the country was in a low range, might have afected the overall sales of the company<br><br>\n",
    "<span style=\"color:red\">\n",
    "Save this plot as \"Subplot.png\"</span><br>\n",
    "*Hint: You can right lick on the plot and then click on \"Save image as\" option to save it on your local machine*\n"
   ]
  },
  {
   "cell_type": "markdown",
   "id": "44f62ecb-e707-4416-923a-6677fb47e334",
   "metadata": {},
   "source": [
    "---\n"
   ]
  },
  {
   "cell_type": "markdown",
   "id": "4ab33707-3499-4f87-b124-805fbef10f63",
   "metadata": {},
   "source": [
    "### TASK 1.5: Develop a Bubble plot for displaying the impact of seasonality on Automobile Sales.\n",
    "<br>How has seasonality impacted the sales, in which months the sales were high or low? Check it for non-recession years to understand the trend\n",
    "\n",
    "##### Develop a Bubble plot for displaying Automobile Sales for every month and use Seasonality Weight for representing the size of each bubble<br>\n",
    "Title this plot as 'Seasonality impact on Automobile Sales'\n"
   ]
  },
  {
   "cell_type": "markdown",
   "id": "3af43550-a674-44f4-8bfe-ea2ace45939e",
   "metadata": {},
   "source": [
    "<details><summary>Click here for a hint</summary>\n",
    "\n",
    "<p>\n",
    "     You can create Bubble Chart by calling the scatter()\n",
    "        <br>Pass the 'Month' and 'Automobile_Sales' to the functions as x and y and then use Seasonality weight for size parameter</p>\n",
    "</details>\n"
   ]
  },
  {
   "cell_type": "code",
   "execution_count": null,
   "id": "059b7591-c2f5-4aba-a604-bd90d999c4d3",
   "metadata": {},
   "outputs": [],
   "source": []
  },
  {
   "cell_type": "markdown",
   "id": "d2845d10-3b3c-483f-ba93-5b82b157d8b3",
   "metadata": {},
   "source": [
    "<details>\n",
    "<summary>Click here for Solution template</summary>\n",
    "\n",
    "```python\n",
    "    non_rec_data = df[df['Recession'] == 0]\n",
    "    \n",
    "    size=non_rec_data['Seasonality_Weight'] #for bubble effect\n",
    "    \n",
    "    sns.scatterplot(data=non_rec_data, x='........', y='........', size=size)\n",
    "    \n",
    "    #you can further include hue='Seasonality_Weight', legend=False)\n",
    "\n",
    "    plt.xlabel('Month')\n",
    "    plt.ylabel('Automobile_Sales')\n",
    "    plt.title('Seasonality impact on Automobile Sales')\n",
    "\n",
    "    plt.show()\n",
    "\n",
    "```\n",
    "</details>\n"
   ]
  },
  {
   "cell_type": "markdown",
   "id": "191bcbb0-984f-4f53-8477-7770822b612c",
   "metadata": {},
   "source": [
    "### Inference\n",
    "From this plot, it is evident that seasonality has not affected on the overall sales. However, there is a drastic raise in sales in the month of April<br><br>\n",
    "<span style=\"color:red\">\n",
    "Save this plot as \"Bubble.png\"</span><br>\n",
    "*Hint: You can right lick on the plot and then click on \"Save image as\" option to save it on your local machine*\n"
   ]
  },
  {
   "cell_type": "markdown",
   "id": "a1414aec-8295-4be8-a147-a47ea4d8991e",
   "metadata": {},
   "source": [
    "---\n"
   ]
  },
  {
   "cell_type": "markdown",
   "id": "8ff0518a-97d7-478d-ae28-db4b6003ce18",
   "metadata": {},
   "source": [
    " ### TASK 1.6: Use the functionality of Matplotlib to develop a scatter plot to identify the correlation between average vehicle price relate to the sales volume during recessions.\n",
    " #### From the data, develop a scatter plot to identify if there a correlation between consumer confidence and automobile sales during recession period? \n",
    " <br> Title this plot as 'Consumer Confidence and Automobile Sales during Recessions'\n"
   ]
  },
  {
   "cell_type": "markdown",
   "id": "0e0d69dc-a402-407b-9385-bce6aa573ad4",
   "metadata": {},
   "source": [
    "<details><summary>Click here for a hint</summary>\n",
    "\n",
    "<p>\n",
    "     You can create dataframe where recession is '1'.\n",
    "        <br>Pass the 'Consumer_Confidence' and 'Automobile_Sales' to the plt.scatter()</p>\n",
    "</details>\n"
   ]
  },
  {
   "cell_type": "code",
   "execution_count": null,
   "id": "99b4d4bb-35a4-44e7-a817-5561ff8563c0",
   "metadata": {},
   "outputs": [],
   "source": []
  },
  {
   "cell_type": "markdown",
   "id": "90b05c71-99ef-482c-b834-b20abc68173d",
   "metadata": {},
   "source": [
    "<details>\n",
    "<summary>Click here for Solution template</summary>\n",
    "\n",
    "```python\n",
    "    #Create dataframes for recession and non-recession period\n",
    "    rec_data = df[df['Recession'] == 1]\n",
    "    plt.scatter(rec_data['Consumer_Confidence'], rec_data['Automobile_Sales'])\n",
    "    \n",
    "    plt.xlabel('.....')\n",
    "    plt.ylabel('.......')\n",
    "    plt.title('..........')\n",
    "    plt.show()\n",
    "\n",
    "```\n",
    "</details>\n"
   ]
  },
  {
   "cell_type": "markdown",
   "id": "b09c1782-04d6-4fad-a320-444ae961f700",
   "metadata": {},
   "source": [
    "\n",
    " ### How does the average vehicle price relate to the sales volume during recessions?\n",
    " <br> Plot another scatter plot and title it as 'Relationship between Average Vehicle Price and Sales during Recessions'\n"
   ]
  },
  {
   "cell_type": "code",
   "execution_count": null,
   "id": "7d3bfb09-37b3-4b2e-a082-01ac0c4417a2",
   "metadata": {},
   "outputs": [],
   "source": []
  },
  {
   "cell_type": "markdown",
   "id": "fc3d1d23-3f33-4d37-9fe5-c6b4f50963cb",
   "metadata": {},
   "source": [
    "<details>\n",
    "<summary>Click here for Solution template</summary>\n",
    "\n",
    "```python\n",
    "    #Create dataframes for recession and non-recession period\n",
    "    rec_data = df[df['Recession'] == 1]\n",
    "    plt.scatter(recession_data['Price'], rec_data['Automobile_Sales'])\n",
    "    \n",
    "    plt.xlabel('.....')\n",
    "    plt.ylabel('.......')\n",
    "    plt.title('..........')\n",
    "    plt.show()\n",
    "\n",
    "```\n",
    "</details>\n"
   ]
  },
  {
   "cell_type": "markdown",
   "id": "010177c1-9adf-4dd8-8827-c047184f284d",
   "metadata": {},
   "source": [
    "### Inference\n",
    "There is not much relation!<br><br>\n",
    "<span style=\"color:red\">\n",
    "Save this plot as \"Scatter.png\"</span><br>\n",
    "*Hint: You can right lick on the plot and then click on \"Save image as\" option to save it on your local machine*\n"
   ]
  },
  {
   "cell_type": "markdown",
   "id": "50a2723b-8114-44f9-a126-ac567e8463cb",
   "metadata": {},
   "source": [
    "----\n"
   ]
  },
  {
   "cell_type": "markdown",
   "id": "7a455aeb-d8ad-4f23-8b41-978d4268d268",
   "metadata": {},
   "source": [
    " ### TASK 1.7: Create a pie chart to display the portion of advertising expenditure of XYZAutomotives during recession and non-recession periods.\n",
    " <br>How did the advertising expenditure of XYZAutomotives change during recession and non-recession periods? \n"
   ]
  },
  {
   "cell_type": "markdown",
   "id": "ac265f4a-c072-4cf9-9ca8-736fc3d97166",
   "metadata": {},
   "source": [
    "<details><summary>Click here for a hint</summary>\n",
    "\n",
    "<p>\n",
    "     You can create two dataframe for recession and nonreccession period.\n",
    "    <br> Calculate the sum of Advertising_Expenditure for both dataframes\n",
    "    <br> Pass these total values to plt.pie(). May include labels as ['Recession', 'Non-Recession']\n",
    "        <br>Feel Free to customie the pie further\n",
    "    <br>title this plot as  - Advertising Expenditure during Recession and Non-Recession Periods</p>\n",
    "</details>\n"
   ]
  },
  {
   "cell_type": "code",
   "execution_count": null,
   "id": "d03e8a36-d8e2-4f99-b273-c288cc2d8d19",
   "metadata": {},
   "outputs": [],
   "source": []
  },
  {
   "cell_type": "markdown",
   "id": "651be7cc-3da4-49b8-a022-bdad2476cff2",
   "metadata": {},
   "source": [
    "<details>\n",
    "<summary>Click here for Solution template</summary>\n",
    "\n",
    "```python\n",
    "    # Filter the data \n",
    "    Rdata = df[df['Recession'] == 1]\n",
    "    NRdata = df[df['Recession'] == 0]\n",
    "\n",
    "    # Calculate the total advertising expenditure for both periods\n",
    "    RAtotal = Rdata['...........'].sum()\n",
    "    NRAtotal = NRdata['...........'].sum()\n",
    "\n",
    "    # Create a pie chart for the advertising expenditure \n",
    "    plt.figure(figsize=(8, 6))\n",
    "\n",
    "    labels = ['Recession', 'Non-Recession']\n",
    "    sizes = [RAtotal, NRtotal]\n",
    "    plt.pie(sizes, labels=labels, autopct='%1.1f%%', startangle=90)\n",
    "\n",
    "    plt.title('...........................')\n",
    "\n",
    "    plt.show()\n",
    "\n",
    "\n",
    "```\n",
    "</details>\n"
   ]
  },
  {
   "cell_type": "markdown",
   "id": "e842faf9-d8d2-4799-a3f0-6164135942cb",
   "metadata": {},
   "source": [
    "#### From the above plot, what insights do you find on the advertisement expenditure during recession and non recession periods?<br> Type your answer below:-\n"
   ]
  },
  {
   "cell_type": "markdown",
   "id": "d137fc35-86ce-4b54-bd8a-f8e8c6a984d4",
   "metadata": {},
   "source": []
  },
  {
   "cell_type": "markdown",
   "id": "a78d8ec9-9363-4aab-b79a-facb19e6c68c",
   "metadata": {},
   "source": [
    "<details><summary>Inference</summary>\n",
    "It seems ABCAutomotives has been spending much more on the advertisements during non-recession periods as compared to during recession times. Fair enough!<br><br></details>\n"
   ]
  },
  {
   "cell_type": "markdown",
   "id": "4d912786-b3ed-4e4d-9ec7-fd10b08cb16e",
   "metadata": {},
   "source": [
    "<span style=\"color:red\">\n",
    "Save this plot as \"Pie_1.png\"</span><br>\n",
    "*Hint: You can right lick on the plot and then click on \"Save image as\" option to save it on your local machine*\n"
   ]
  },
  {
   "cell_type": "markdown",
   "id": "607b869a-0567-4947-b7a6-49e1da8100cf",
   "metadata": {},
   "source": [
    "---\n"
   ]
  },
  {
   "cell_type": "markdown",
   "id": "9f3c5c25-e868-468d-9467-e026f3031e56",
   "metadata": {},
   "source": [
    "### TASK 1.8: Develop a pie chart to display the total Advertisement expenditure for each vehicle type during recession period.<br>\n",
    "Can we observe the share of each vehicle type in total expenditure during recessions? \n"
   ]
  },
  {
   "cell_type": "markdown",
   "id": "aef4da6e-0990-41e5-b598-51630b8d13fa",
   "metadata": {},
   "source": [
    "<details><summary>Click here for a hint</summary>\n",
    "\n",
    "<p>\n",
    "     You will be required to group vehicle type for sum of advertisement expenditure.\n",
    "    <br> the plot a pie with the data, May include relevant labels\n",
    "    <br>title this plot as  - Share of Each Vehicle Type in Total Expenditure during Recessions</p>\n",
    "</details>\n"
   ]
  },
  {
   "cell_type": "code",
   "execution_count": null,
   "id": "3168deea-05c2-4e53-8dfc-7ec5c174be33",
   "metadata": {},
   "outputs": [],
   "source": []
  },
  {
   "cell_type": "markdown",
   "id": "7d931773-37a4-4d15-9c9d-30f81e1fb95d",
   "metadata": {},
   "source": [
    "<details>\n",
    "    <summary>Click here for Solution template</summary>\n",
    "\n",
    "```python\n",
    "    # Filter the data \n",
    "    Rdata = df[df['Recession'] == 1]\n",
    "\n",
    "    # Calculate the sales volume by vehicle type during recessions\n",
    "    VTexpenditure = Rdata.groupby('..........')['.............'].sum()\n",
    "\n",
    "    # Create a pie chart for the share of each vehicle type in total expenditure during recessions\n",
    "    plt.figure(figsize=(..., ...))\n",
    "\n",
    "    labels = VTexpenditure.index\n",
    "    sizes = VTexpenditure.values\n",
    "    plt.pie(sizes, labels=labels, autopct='%1.1f%%', startangle=90)\n",
    "\n",
    "    plt.title('....................')\n",
    "\n",
    "    plt.show()\n",
    "```\n",
    "    </details>\n"
   ]
  },
  {
   "cell_type": "markdown",
   "id": "60417b5f-447f-417d-be33-25dd560f9814",
   "metadata": {},
   "source": [
    "### Inference\n",
    "During recession the advertisements were mostly focued on low price range vehicle. A wise decision!<br><br>\n",
    "<span style=\"color:red\">\n",
    "Save this plot as \"Pie_2.png\"</span><br>\n",
    "*Hint: You can right lick on the plot and then click on \"Save image as\" option to save it on your local machine*\n"
   ]
  },
  {
   "cell_type": "markdown",
   "id": "dfd3f69b-d613-4f89-b59e-a7aadcade9ec",
   "metadata": {},
   "source": [
    "----\n"
   ]
  },
  {
   "cell_type": "markdown",
   "id": "02da2597-d16d-4ef9-845c-5681fc99abe6",
   "metadata": {},
   "source": [
    " ### TASK 1.9: Develop a lineplot to analyse the effect of the unemployment rate on vehicle type and sales during the Recession Period.\n",
    " <br>Analyze the effect of the unemployment rate on vehicle type and sales during the Recession Period\n",
    " #### You can create a lineplot and title the plot as 'Effect of Unemployment Rate on Vehicle Type and Sales'\n"
   ]
  },
  {
   "cell_type": "markdown",
   "id": "92010afa-b0e9-4482-8cb0-74cfe769fa1e",
   "metadata": {},
   "source": [
    "<details><summary>Click here for a hint</summary>\n",
    "\n",
    "<p>\n",
    "    Filter out the data for recession period<br>\n",
    "     Make use of lineplot() from seaborn and pass the relavent data</p>\n",
    "</details>\n"
   ]
  },
  {
   "cell_type": "code",
   "execution_count": null,
   "id": "0ae4a8ec-2f69-4133-920b-dd6565e56f39",
   "metadata": {},
   "outputs": [],
   "source": []
  },
  {
   "cell_type": "markdown",
   "id": "d279df47-ac6a-4b3b-a3a7-10c2fd4fe0a8",
   "metadata": {},
   "source": [
    "<details>\n",
    "    <summary>Click here for Solution template</summary>\n",
    "\n",
    "```python\n",
    "df_rec = df[df['Recession']==1]\n",
    "sns.lineplot(data=df_rec, x='..........', y='.........',\n",
    "             hue='Vehicle_Type', style='Vehicle_Type', markers='o', err_style=None)\n",
    "plt.ylim(0,850)\n",
    "plt.legend(loc=(0.05,.3))\n",
    "```\n",
    "\n",
    "</details>\n"
   ]
  },
  {
   "cell_type": "markdown",
   "id": "0eb5398c-2582-44e5-a2e3-05874249b743",
   "metadata": {},
   "source": [
    "#### From the above plot, what insights have you gained on the sales of superminicar, smallfamilycar, mediumminicar?<br> Type your answer below:-\n"
   ]
  },
  {
   "cell_type": "markdown",
   "id": "e9655491-026d-4204-94cc-3a5ff5d53fa6",
   "metadata": {},
   "source": []
  },
  {
   "cell_type": "markdown",
   "id": "e831454b-97fc-42bd-a86f-34f6960c4d5e",
   "metadata": {},
   "source": [
    "<details><summary>Inference</summary>\n",
    "During recession, buying pattern changed, the sales of low range vehicle like superminicar,smallfamilycar and Mediumminicar<br><br>\n",
    "</details>\n"
   ]
  },
  {
   "cell_type": "markdown",
   "id": "5e3cede8-059e-4ac6-ba8e-11d0bb4cb7a2",
   "metadata": {},
   "source": [
    "<span style=\"color:red\">\n",
    "Save this plot as \"line_plot_3.png\"</span><br>\n",
    "*Hint: You can right lick on the plot and then click on \"Save image as\" option to save it on your local machine*\n"
   ]
  },
  {
   "cell_type": "markdown",
   "id": "714d884c-7776-419f-be8a-81d1a15937b6",
   "metadata": {},
   "source": [
    "---\n"
   ]
  },
  {
   "cell_type": "markdown",
   "id": "e5c372bc-4654-47bd-a92f-d8e85c408196",
   "metadata": {},
   "source": [
    "### OPTIONAL : TASK 1.10 Create a map on the hightest sales region/offices of the company during recession period\n"
   ]
  },
  {
   "cell_type": "code",
   "execution_count": null,
   "id": "a50f8fd9-ffa5-4012-b43a-b9489abc3a30",
   "metadata": {},
   "outputs": [],
   "source": [
    "from pyodide.http import pyfetch\n",
    "\n",
    "async def download(url, filename):\n",
    "    response = await pyfetch(url)\n",
    "    if response.status == 200:\n",
    "        with open(filename, \"wb\") as f:\n",
    "            f.write(await response.bytes())\n",
    "\n",
    "path = 'https://cf-courses-data.s3.us.cloud-object-storage.appdomain.cloud/IBMDeveloperSkillsNetwork-DV0101EN-SkillsNetwork/Data%20Files/us-states.json'\n",
    "await download(path, \"us-states.json\")\n",
    "\n",
    "filename = \"us-states.json\""
   ]
  },
  {
   "cell_type": "markdown",
   "id": "a81666e8-cd65-4ace-a2b2-1d41d067265f",
   "metadata": {},
   "source": [
    "#### You found that the datset also contains the location/city for company offices. Now you want to show the recession impact on various offices/city sales by developing a choropleth\n"
   ]
  },
  {
   "cell_type": "code",
   "execution_count": null,
   "id": "b059fa4d-4ede-4574-b968-bfa6a12b23bf",
   "metadata": {},
   "outputs": [],
   "source": []
  },
  {
   "cell_type": "markdown",
   "id": "30cd821f-f977-4d98-818e-81ae482a73ce",
   "metadata": {},
   "source": [
    "<details><summary>Click for Solution</summary>\n",
    "    \n",
    "```python\n",
    "\n",
    "    # Filter the data for the recession period and specific cities\n",
    "    recession_data = data[data['Recession'] == 1]\n",
    "\n",
    "    # Calculate the total sales by city\n",
    "    sales_by_city = recession_data.groupby('City')['Automobile_Sales'].sum().reset_index()\n",
    "\n",
    "    # Create a base map centered on the United States\n",
    "    map1 = folium.Map(location=[37.0902, -95.7129], zoom_start=4)\n",
    "\n",
    "    # Create a choropleth layer using Folium\n",
    "    choropleth = folium.Choropleth(\n",
    "        geo_data= 'us-states.json',  # GeoJSON file with state boundaries\n",
    "        data=sales_by_city,\n",
    "        columns=['City', 'Automobile_Sales'],\n",
    "        key_on='feature.properties.name',\n",
    "        fill_color='YlOrRd',\n",
    "        fill_opacity=0.7,\n",
    "        line_opacity=0.2,\n",
    "        legend_name='Automobile Sales during Recession'\n",
    "    ).add_to(map1)\n",
    "\n",
    "\n",
    "    # Add tooltips to the choropleth layer\n",
    "    choropleth.geojson.add_child(\n",
    "        folium.features.GeoJsonTooltip(['name'], labels=True)\n",
    "    )\n",
    "\n",
    "    # Display the map\n",
    "    map1\n",
    "\n",
    "```\n",
    "</details>\n"
   ]
  },
  {
   "cell_type": "markdown",
   "id": "e26bbabf-d51e-477b-bc4f-21a70c559087",
   "metadata": {},
   "source": [
    "# Congratulations! You have completed the lab\n"
   ]
  },
  {
   "cell_type": "markdown",
   "id": "3168281d-f24c-47a5-a7d6-62531682e478",
   "metadata": {},
   "source": [
    "## Authors\n"
   ]
  },
  {
   "cell_type": "markdown",
   "id": "7bdd11bf-fd6b-480e-ad4e-42ec901c6c3b",
   "metadata": {},
   "source": [
    "[Dr. Pooja](author_link)\n"
   ]
  },
  {
   "cell_type": "markdown",
   "id": "8b65b8e4-b40d-4e00-9811-6542acfd32e6",
   "metadata": {},
   "source": [
    "``` toggle ## Change Log\n",
    "```\n"
   ]
  },
  {
   "cell_type": "markdown",
   "id": "be431082-c86a-4acc-a0b0-9fa976d995d0",
   "metadata": {},
   "source": [
    "<!---|Date (YYYY-MM-DD)|Version|Changed By|Change Description|\n",
    "|-|-|-|-|\n",
    "2024-01-05|0.2.1|Sowmyaa Gurusamy|Updated the lab instructions|\n",
    "|2023-06-17|0.2|Pooja|Initial Lab Creation|\n",
    "|2023-05-01|0.1|Shengkai|Create Lab Template|-->\n"
   ]
  },
  {
   "cell_type": "markdown",
   "id": "f7d165ab-fa6d-4af9-9653-72032cc7839d",
   "metadata": {},
   "source": [
    "Copyright © 2023 IBM Corporation. All rights reserved.\n"
   ]
  }
 ],
 "metadata": {
  "kernelspec": {
   "display_name": "Python 3",
   "language": "python",
   "name": "python3"
  },
  "language_info": {
   "codemirror_mode": {
    "name": "ipython",
    "version": 3
   },
   "file_extension": ".py",
   "mimetype": "text/x-python",
   "name": "python",
   "nbconvert_exporter": "python",
   "pygments_lexer": "ipython3",
   "version": "3.8.10"
  },
  "prev_pub_hash": "e49b1aac4572712b180b248e70d893ea090e9b239d42f173ccab18514b49bed6"
 },
 "nbformat": 4,
 "nbformat_minor": 4
}
