{
 "cells": [
  {
   "cell_type": "markdown",
   "metadata": {},
   "source": [
    "# Analog Horror Statistics Report\n",
    "\n",
    "This will gather viewing data relative size for selected horror series\n",
    "\n",
    "1 - All of these can be found on YouTube\n",
    "2 - This report is specific to October/November 2024 timeframe - this may change with the implmentation of a webscraper"
   ]
  },
  {
   "cell_type": "markdown",
   "metadata": {},
   "source": [
    "## Series' used in this study\n",
    "\n",
    "1. The Mandela Cataloge\n",
    "2. Monument Mythos\n",
    "3. Greylock\n",
    "4. Midwest Angellica\n",
    "5. The Walton Files\n",
    "6. Local 58\n",
    "7. Marble Hornets\n",
    "8. The Oldest View\n",
    "\n",
    "#### These were chosen as they all meet the following criteria.\n",
    "1. A sizeable following and overall popularity. These and are most likely to be recognized by fans of the genre.\n",
    "2. All are created by a specific group or individual, as opposed to a community led project.\n",
    "3. These are original, and did not stem a preexisting IP or idea.\n",
    "4. All consist of 5 or more episodes or installments\n",
    "\n",
    "#### Regarding Exclusions\n",
    "It is important to note that certian series' have been left off this list. As this report is complied by a single individual, it was decided to focus on only 8 projects in order to prevent scope creep. This list should not be seen as a judgement of quality, although the authors' personal interests did play a role in determining the list. "
   ]
  },
  {
   "cell_type": "code",
   "execution_count": null,
   "metadata": {
    "vscode": {
     "languageId": "plaintext"
    }
   },
   "outputs": [],
   "source": []
  }
 ],
 "metadata": {
  "language_info": {
   "name": "python"
  }
 },
 "nbformat": 4,
 "nbformat_minor": 2
}
